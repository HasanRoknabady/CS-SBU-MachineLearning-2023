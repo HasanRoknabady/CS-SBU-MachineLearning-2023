{
 "cells": [
  {
   "cell_type": "code",
   "execution_count": 8,
   "id": "defb91d4",
   "metadata": {},
   "outputs": [],
   "source": [
    "import pandas as pd\n",
    "import numpy as np\n",
    "from sklearn.model_selection import train_test_split\n",
    "from scipy.stats import ttest_ind, f_oneway, chi2_contingency\n",
    "from sklearn.preprocessing import StandardScaler, MinMaxScaler, RobustScaler\n",
    "from sklearn.linear_model import LinearRegression\n",
    "\n",
    "# Load the dataset\n",
    "url = \"https://raw.githubusercontent.com/HasanRoknabady/dataset-popularity-/main/OnlineNewsPopularity.csv\"\n",
    "df = pd.read_csv(url)\n",
    "\n",
    "# Extract the relevant features\n",
    "X = df.iloc[:, 2:-2].values\n",
    "y = df.iloc[:, -1].values\n",
    "\n",
    "# Split the data into training and testing sets\n",
    "X_train, X_test, y_train, y_test = train_test_split(X, y, test_size=0.2, random_state=42)"
   ]
  },
  {
   "cell_type": "code",
   "execution_count": 9,
   "id": "7c81946f",
   "metadata": {},
   "outputs": [],
   "source": [
    "from sklearn.preprocessing import PolynomialFeatures\n",
    "\n",
    "# Add polynomial features up to degree 2\n",
    "poly = PolynomialFeatures(degree=2)\n",
    "X_train_poly = poly.fit_transform(X_train)\n",
    "X_test_poly = poly.transform(X_test)\n"
   ]
  },
  {
   "cell_type": "code",
   "execution_count": 10,
   "id": "8b80dfec",
   "metadata": {},
   "outputs": [
    {
     "name": "stdout",
     "output_type": "stream",
     "text": [
      "Linear regression with standard scaling: R^2 score = 0.025\n",
      "Linear regression with min-max scaling: R^2 score = 0.026\n",
      "Ridge regression with polynomial features: R^2 score = 0.002\n"
     ]
    }
   ],
   "source": [
    "import pandas as pd\n",
    "import numpy as np\n",
    "from sklearn.datasets import fetch_openml\n",
    "from sklearn.model_selection import train_test_split\n",
    "from sklearn.preprocessing import StandardScaler, MinMaxScaler, PolynomialFeatures\n",
    "from sklearn.linear_model import LinearRegression, Ridge\n",
    "from sklearn.metrics import r2_score\n",
    "\n",
    "# Load the dataset\n",
    "df = pd.read_csv(\"https://github.com/HasanRoknabady/dataset-popularity-/raw/main/OnlineNewsPopularity.csv\")\n",
    "\n",
    "# Split the dataset into train and test sets\n",
    "X = df.drop(columns=[\"url\", \" shares\"])\n",
    "y = df[\" shares\"]\n",
    "X_train, X_test, y_train, y_test = train_test_split(X, y, test_size=0.2, random_state=42)\n",
    "\n",
    "# Apply standard scaling to the dataset\n",
    "scaler = StandardScaler()\n",
    "X_train_scaled = scaler.fit_transform(X_train)\n",
    "X_test_scaled = scaler.transform(X_test)\n",
    "\n",
    "# Fit a linear regression model on the scaled dataset\n",
    "lr = LinearRegression()\n",
    "lr.fit(X_train_scaled, y_train)\n",
    "\n",
    "# Evaluate the performance of the model on the test set\n",
    "y_pred = lr.predict(X_test_scaled)\n",
    "r2 = r2_score(y_test, y_pred)\n",
    "print(f\"Linear regression with standard scaling: R^2 score = {r2:.3f}\")\n",
    "\n",
    "# Apply min-max scaling to the dataset\n",
    "scaler = MinMaxScaler()\n",
    "X_train_scaled = scaler.fit_transform(X_train)\n",
    "X_test_scaled = scaler.transform(X_test)\n",
    "\n",
    "# Fit a linear regression model on the scaled dataset\n",
    "lr = LinearRegression()\n",
    "lr.fit(X_train_scaled, y_train)\n",
    "\n",
    "# Evaluate the performance of the model on the test set\n",
    "y_pred = lr.predict(X_test_scaled)\n",
    "r2 = r2_score(y_test, y_pred)\n",
    "print(f\"Linear regression with min-max scaling: R^2 score = {r2:.3f}\")\n",
    "\n",
    "# Apply polynomial features to the dataset\n",
    "poly = PolynomialFeatures(degree=2)\n",
    "X_train_poly = poly.fit_transform(X_train_scaled)\n",
    "X_test_poly = poly.transform(X_test_scaled)\n",
    "\n",
    "# Fit a ridge regression model on the polynomial features\n",
    "ridge = Ridge(alpha=1)\n",
    "ridge.fit(X_train_poly, y_train)\n",
    "\n",
    "# Evaluate the performance of the model on the test set\n",
    "y_pred = ridge.predict(X_test_poly)\n",
    "r2 = r2_score(y_test, y_pred)\n",
    "print(f\"Ridge regression with polynomial features: R^2 score = {r2:.3f}\")\n"
   ]
  }
 ],
 "metadata": {
  "kernelspec": {
   "display_name": "Python 3 (ipykernel)",
   "language": "python",
   "name": "python3"
  },
  "language_info": {
   "codemirror_mode": {
    "name": "ipython",
    "version": 3
   },
   "file_extension": ".py",
   "mimetype": "text/x-python",
   "name": "python",
   "nbconvert_exporter": "python",
   "pygments_lexer": "ipython3",
   "version": "3.9.13"
  }
 },
 "nbformat": 4,
 "nbformat_minor": 5
}

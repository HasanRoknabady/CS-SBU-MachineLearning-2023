{
 "cells": [
  {
   "cell_type": "code",
   "execution_count": 4,
   "id": "4c6fb75b",
   "metadata": {},
   "outputs": [
    {
     "name": "stdout",
     "output_type": "stream",
     "text": [
      "Linear Regression MAE: 3059.717817837649\n",
      "Absolute Error MAE: 3059.717817837649\n",
      "Epsilon-Sensitive Error MAE: 3059.217871565656\n",
      "Huber Loss MAE: 3059.217871565656\n"
     ]
    }
   ],
   "source": [
    "import pandas as pd\n",
    "\n",
    "# load the dataset\n",
    "df = pd.read_csv(\"https://raw.githubusercontent.com/HasanRoknabady/dataset-popularity-/main/OnlineNewsPopularity.csv\", delimiter=\", \", engine=\"python\")\n",
    "\n",
    "# remove the trailing whitespace from column names\n",
    "df.columns = df.columns.str.strip()\n",
    "\n",
    "# select only the relevant columns\n",
    "df = df[[\"n_tokens_title\", \"n_tokens_content\", \"n_unique_tokens\", \"num_hrefs\", \"num_self_hrefs\", \"num_imgs\", \"num_videos\", \"average_token_length\", \"num_keywords\", \"data_channel_is_lifestyle\", \"data_channel_is_entertainment\", \"data_channel_is_bus\", \"data_channel_is_socmed\", \"data_channel_is_tech\", \"data_channel_is_world\", \"weekday_is_monday\", \"weekday_is_tuesday\", \"weekday_is_wednesday\", \"weekday_is_thursday\", \"weekday_is_friday\", \"weekday_is_saturday\", \"weekday_is_sunday\", \"is_weekend\", \"shares\"]]\n",
    "\n",
    "# split the data into input and output variables\n",
    "X = df.drop(columns=[\"shares\"])\n",
    "y = df[\"shares\"]\n",
    "\n",
    "# split the data into training and testing sets\n",
    "from sklearn.model_selection import train_test_split\n",
    "X_train, X_test, y_train, y_test = train_test_split(X, y, test_size=0.2, random_state=42)\n",
    "\n",
    "# fit a linear regression model\n",
    "from sklearn.linear_model import LinearRegression\n",
    "lr_model = LinearRegression()\n",
    "lr_model.fit(X_train, y_train)\n",
    "\n",
    "# calculate the performance metrics\n",
    "from sklearn.metrics import mean_absolute_error\n",
    "lr_mae = mean_absolute_error(y_test, lr_model.predict(X_test))\n",
    "print(\"Linear Regression MAE:\", lr_mae)\n",
    "\n",
    "# absolute error loss\n",
    "def abs_error(y_true, y_pred):\n",
    "    return abs(y_true - y_pred)\n",
    "\n",
    "# epsilon-sensitive loss\n",
    "def epsilon_sensitive_error(y_true, y_pred, epsilon=1.0):\n",
    "    loss = abs(y_true - y_pred)\n",
    "    mask = loss > epsilon\n",
    "    loss[mask] = loss[mask] - 0.5 * epsilon\n",
    "    loss[~mask] = 0.5 * loss[~mask]**2 / epsilon\n",
    "    return loss\n",
    "\n",
    "# Huber loss\n",
    "def huber_loss(y_true, y_pred, delta=1.0):\n",
    "    loss = abs(y_true - y_pred)\n",
    "    mask = loss > delta\n",
    "    loss[mask] = delta * loss[mask] - 0.5 * delta**2\n",
    "    loss[~mask] = 0.5 * loss[~mask]**2\n",
    "    return loss\n",
    "\n",
    "# evaluate the absolute error loss\n",
    "ae_mae = mean_absolute_error(y_test, lr_model.predict(X_test), multioutput='raw_values')\n",
    "ae_mae = abs_error(y_test, lr_model.predict(X_test)).mean()\n",
    "print(\"Absolute Error MAE:\", ae_mae)\n",
    "\n",
    "# evaluate the epsilon-sensitive loss\n",
    "es_mae = epsilon_sensitive_error(y_test, lr_model.predict(X_test)).mean()\n",
    "print(\"Epsilon-Sensitive Error MAE:\", es_mae)\n",
    "\n",
    "# evaluate the Huber loss\n",
    "h_mae = huber_loss(y_test, lr_model.predict(X_test)).mean()\n",
    "print(\"Huber Loss MAE:\", h_mae)\n"
   ]
  }
 ],
 "metadata": {
  "kernelspec": {
   "display_name": "Python 3 (ipykernel)",
   "language": "python",
   "name": "python3"
  },
  "language_info": {
   "codemirror_mode": {
    "name": "ipython",
    "version": 3
   },
   "file_extension": ".py",
   "mimetype": "text/x-python",
   "name": "python",
   "nbconvert_exporter": "python",
   "pygments_lexer": "ipython3",
   "version": "3.9.13"
  }
 },
 "nbformat": 4,
 "nbformat_minor": 5
}

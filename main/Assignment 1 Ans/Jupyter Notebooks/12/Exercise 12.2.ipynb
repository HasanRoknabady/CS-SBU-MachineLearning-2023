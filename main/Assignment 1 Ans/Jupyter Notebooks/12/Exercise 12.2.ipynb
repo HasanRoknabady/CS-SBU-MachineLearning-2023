{
 "cells": [
  {
   "cell_type": "code",
   "execution_count": 2,
   "id": "0ff2d1fb",
   "metadata": {
    "scrolled": true
   },
   "outputs": [
    {
     "name": "stdout",
     "output_type": "stream",
     "text": [
      "t-statistic: nan, p-value: nan\n",
      "Pearson correlation coefficient: -0.002, p-value: 0.729\n"
     ]
    },
    {
     "ename": "NameError",
     "evalue": "name 'np' is not defined",
     "output_type": "error",
     "traceback": [
      "\u001b[1;31m---------------------------------------------------------------------------\u001b[0m",
      "\u001b[1;31mNameError\u001b[0m                                 Traceback (most recent call last)",
      "Cell \u001b[1;32mIn [2], line 29\u001b[0m\n\u001b[0;32m     26\u001b[0m \u001b[38;5;28mprint\u001b[39m(\u001b[38;5;124mf\u001b[39m\u001b[38;5;124m\"\u001b[39m\u001b[38;5;124mPearson correlation coefficient: \u001b[39m\u001b[38;5;132;01m{\u001b[39;00mcorr_coef\u001b[38;5;132;01m:\u001b[39;00m\u001b[38;5;124m.3f\u001b[39m\u001b[38;5;132;01m}\u001b[39;00m\u001b[38;5;124m, p-value: \u001b[39m\u001b[38;5;132;01m{\u001b[39;00mp_value\u001b[38;5;132;01m:\u001b[39;00m\u001b[38;5;124m.3f\u001b[39m\u001b[38;5;132;01m}\u001b[39;00m\u001b[38;5;124m\"\u001b[39m)\n\u001b[0;32m     28\u001b[0m \u001b[38;5;66;03m# Test for difference in proportions of sentiment (positive/negative) between articles with short and long titles\u001b[39;00m\n\u001b[1;32m---> 29\u001b[0m avg_length \u001b[38;5;241m=\u001b[39m \u001b[43mnp\u001b[49m\u001b[38;5;241m.\u001b[39mmean(X_train[:, \u001b[38;5;241m2\u001b[39m])\n\u001b[0;32m     30\u001b[0m short_sentiment \u001b[38;5;241m=\u001b[39m X_train[X_train[:, \u001b[38;5;241m2\u001b[39m] \u001b[38;5;241m<\u001b[39m avg_length][:, \u001b[38;5;241m-\u001b[39m\u001b[38;5;241m2\u001b[39m]\n\u001b[0;32m     31\u001b[0m long_sentiment \u001b[38;5;241m=\u001b[39m X_train[X_train[:, \u001b[38;5;241m2\u001b[39m] \u001b[38;5;241m>\u001b[39m\u001b[38;5;241m=\u001b[39m avg_length][:, \u001b[38;5;241m-\u001b[39m\u001b[38;5;241m2\u001b[39m]\n",
      "\u001b[1;31mNameError\u001b[0m: name 'np' is not defined"
     ]
    }
   ],
   "source": [
    "import pandas as pd\n",
    "from sklearn.model_selection import train_test_split\n",
    "from scipy.stats import ttest_ind, pearsonr, chi2_contingency, f_oneway\n",
    "\n",
    "data = pd.read_csv('https://raw.githubusercontent.com/HasanRoknabady/dataset-popularity-/main/OnlineNewsPopularity.csv')\n",
    "\n",
    "X = data.iloc[:, :-1].values\n",
    "y = data.iloc[:, -1].values\n",
    "\n",
    "X_train, X_test, y_train, y_test = train_test_split(X, y, test_size=0.2, random_state=42)\n",
    "\n",
    "# Test for difference in means between two groups\n",
    "weekday_shares = X_train[y_train == 0][:, -1]\n",
    "weekend_shares = X_train[y_train == 1][:, -1]\n",
    "\n",
    "t_stat, p_value = ttest_ind(weekday_shares, weekend_shares)\n",
    "\n",
    "print(f\"t-statistic: {t_stat:.3f}, p-value: {p_value:.3f}\")\n",
    "\n",
    "# Test for correlation between two variables\n",
    "num_imgs = X_train[:, 3]\n",
    "num_videos = X_train[:, 4]\n",
    "\n",
    "corr_coef, p_value = pearsonr(num_imgs, num_videos)\n",
    "\n",
    "print(f\"Pearson correlation coefficient: {corr_coef:.3f}, p-value: {p_value:.3f}\")\n",
    "\n",
    "# Test for difference in proportions of sentiment (positive/negative) between articles with short and long titles\n",
    "avg_length = np.mean(X_train[:, 2])\n",
    "short_sentiment = X_train[X_train[:, 2] < avg_length][:, -2]\n",
    "long_sentiment = X_train[X_train[:, 2] >= avg_length][:, -2]\n",
    "\n",
    "contingency_table = [[sum(short_sentiment == 0), sum(short_sentiment == 1)],\n",
    "                     [sum(long_sentiment == 0), sum(long_sentiment == 1)]]\n",
    "\n",
    "# add a small constant to each cell in the contingency table\n",
    "contingency_table = np.array(contingency_table) + 0.5\n",
    "\n",
    "chi2_stat, p_value, dof, expected = chi2_contingency(contingency_table)\n",
    "\n",
    "print(f\"chi-square statistic: {chi2_stat:.3f}, p-value: {p_value:.3f}\")\n",
    "\n",
    "\n",
    "# Test for difference in means between more than two groups\n",
    "lifestyle_shares = X_train[X_train[:, 11] == 1][:, -1]\n",
    "entertainment_shares = X_train[X_train[:, 12] == 1][:, -1]\n",
    "business_shares = X_train[X_train[:, 13] == 1][:, -1]\n",
    "social_media_shares = X_train[X_train[:, 14] == 1][:, -1]\n",
    "\n",
    "f_stat, p_value = f_oneway(lifestyle_shares, entertainment_shares, business_shares, social_media_shares)\n",
    "\n",
    "print(f\"F-statistic: {f_stat:.3f}, p-value: {p_value:.3f}\")\n",
    "\n",
    "\n",
    "# Test for correlation between two categorical variables\n",
    "weekday_category = X_train[y_train == 0][:, 10]\n",
    "weekend_category = X_train[y_train == 1][:, 10]\n",
    "\n",
    "contingency_table = pd.crosstab(weekday_category, weekend_category)\n",
    "\n",
    "chi2_stat, p_value, dof, expected = chi2_contingency(contingency_table)\n",
    "\n",
    "print(f\"chi-square statistic: {chi2_stat:.3f}, p-value: {p_value:.3f}\")\n",
    "\n"
   ]
  }
 ],
 "metadata": {
  "kernelspec": {
   "display_name": "Python 3 (ipykernel)",
   "language": "python",
   "name": "python3"
  },
  "language_info": {
   "codemirror_mode": {
    "name": "ipython",
    "version": 3
   },
   "file_extension": ".py",
   "mimetype": "text/x-python",
   "name": "python",
   "nbconvert_exporter": "python",
   "pygments_lexer": "ipython3",
   "version": "3.9.13"
  }
 },
 "nbformat": 4,
 "nbformat_minor": 5
}

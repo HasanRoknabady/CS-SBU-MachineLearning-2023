{
 "cells": [
  {
   "cell_type": "code",
   "execution_count": 5,
   "id": "e3064840",
   "metadata": {},
   "outputs": [
    {
     "name": "stdout",
     "output_type": "stream",
     "text": [
      "t-statistic: -0.352, p-value: 0.725\n",
      "F-statistic: nan, p-value: nan\n",
      "chi-square statistic: 3.795, p-value: 0.051\n",
      "StandardScaler - t-statistic: -0.352, p-value: 0.725\n",
      "MinMaxScaler - t-statistic: -0.352, p-value: 0.725\n"
     ]
    },
    {
     "name": "stderr",
     "output_type": "stream",
     "text": [
      "C:\\Users\\hasan\\AppData\\Local\\Programs\\Python\\Python39\\lib\\site-packages\\scipy\\stats\\_stats_py.py:3872: DegenerateDataWarning: at least one input has length 0\n",
      "  warnings.warn(stats.DegenerateDataWarning('at least one input '\n"
     ]
    },
    {
     "name": "stdout",
     "output_type": "stream",
     "text": [
      "RobustScaler - t-statistic: -0.352, p-value: 0.725\n"
     ]
    }
   ],
   "source": [
    "import pandas as pd\n",
    "import numpy as np\n",
    "from sklearn.model_selection import train_test_split\n",
    "from scipy.stats import ttest_ind, f_oneway, chi2_contingency\n",
    "from sklearn.preprocessing import StandardScaler, MinMaxScaler, RobustScaler\n",
    "\n",
    "# Load the dataset\n",
    "url = \"https://raw.githubusercontent.com/HasanRoknabady/dataset-popularity-/main/OnlineNewsPopularity.csv\"\n",
    "df = pd.read_csv(url)\n",
    "\n",
    "# Extract the relevant features\n",
    "X = df.iloc[:, 2:-2].values\n",
    "y = df.iloc[:, -1].values\n",
    "\n",
    "# Split the data into training and testing sets\n",
    "X_train, X_test, y_train, y_test = train_test_split(X, y, test_size=0.2, random_state=42)\n",
    "\n",
    "# Test for difference in means between two groups\n",
    "short_shares = X_train[X_train[:, 2] < X_train[:, 2].mean()][:, -1]\n",
    "long_shares = X_train[X_train[:, 2] >= X_train[:, 2].mean()][:, -1]\n",
    "t_stat, p_value = ttest_ind(short_shares, long_shares)\n",
    "print(f\"t-statistic: {t_stat:.3f}, p-value: {p_value:.3f}\")\n",
    "\n",
    "# Test for difference in means between more than two groups\n",
    "popularities = [X_train[X_train[:, 2] < 1000][:, -1],\n",
    "                X_train[(X_train[:, 2] >= 1000) & (X_train[:, 2] < 10000)][:, -1],\n",
    "                X_train[(X_train[:, 2] >= 10000) & (X_train[:, 2] < 100000)][:, -1],\n",
    "                X_train[X_train[:, 2] >= 100000][:, -1]]\n",
    "f_stat, p_value = f_oneway(*popularities)\n",
    "print(f\"F-statistic: {f_stat:.3f}, p-value: {p_value:.3f}\")\n",
    "\n",
    "# Test for association between two categorical variables\n",
    "avg_length = X_train[:, 2].mean()\n",
    "short_sentiment = X_train[X_train[:, 2] < avg_length][:, -2]\n",
    "long_sentiment = X_train[X_train[:, 2] >= avg_length][:, -2]\n",
    "contingency_table = [[sum(short_sentiment == 0), sum(short_sentiment == 1)],\n",
    "                     [sum(long_sentiment == 0), sum(long_sentiment == 1)]]\n",
    "chi2_stat, p_value, dof, expected = chi2_contingency(contingency_table)\n",
    "print(f\"chi-square statistic: {chi2_stat:.3f}, p-value: {p_value:.3f}\")\n",
    "\n",
    "# Test for effect of scaling on t-test results\n",
    "scalers = [('StandardScaler', StandardScaler()),\n",
    "           ('MinMaxScaler', MinMaxScaler()),\n",
    "           ('RobustScaler', RobustScaler())]\n",
    "\n",
    "for scaler_name, scaler in scalers:\n",
    "    X_train_scaled = scaler.fit_transform(X_train)\n",
    "    short_shares = X_train_scaled[X_train_scaled[:, 2] < X_train_scaled[:, 2].mean()][:, -1]\n",
    "    long_shares = X_train_scaled[X_train_scaled[:, 2] >= X_train_scaled[:, 2].mean()][:, -1]\n",
    "    t_stat, p_value = ttest_ind(short_shares, long_shares)\n",
    "    print(f\"{scaler_name} - t-statistic: {t_stat:.3f}, p-value: {p_value:.3f}\")\n"
   ]
  }
 ],
 "metadata": {
  "kernelspec": {
   "display_name": "Python 3 (ipykernel)",
   "language": "python",
   "name": "python3"
  },
  "language_info": {
   "codemirror_mode": {
    "name": "ipython",
    "version": 3
   },
   "file_extension": ".py",
   "mimetype": "text/x-python",
   "name": "python",
   "nbconvert_exporter": "python",
   "pygments_lexer": "ipython3",
   "version": "3.9.13"
  }
 },
 "nbformat": 4,
 "nbformat_minor": 5
}

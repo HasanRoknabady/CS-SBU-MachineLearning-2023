{
 "cells": [
  {
   "cell_type": "code",
   "execution_count": 121,
   "id": "eb1b0d64",
   "metadata": {},
   "outputs": [],
   "source": [
    "import pandas as pd\n",
    "import numpy as np\n",
    "import seaborn as sns\n",
    "from sklearn.preprocessing import LabelEncoder, StandardScaler\n",
    "from sklearn.model_selection import train_test_split\n",
    "\n",
    "# Load the penguins dataset\n",
    "df = pd.read_csv(\"https://raw.githubusercontent.com/mwaskom/seaborn-data/master/penguins.csv\")\n",
    "\n",
    "# Drop the rows with missing values\n",
    "df.dropna(inplace=True)\n",
    "\n",
    "# Encode the species column to integers\n",
    "label_encoder = LabelEncoder()\n",
    "df['species'] = label_encoder.fit_transform(df['species'])\n",
    "\n",
    "# Standardize the numeric columns\n",
    "scaler = StandardScaler()\n",
    "df[['bill_length_mm', 'bill_depth_mm', 'flipper_length_mm', 'body_mass_g']] = scaler.fit_transform(\n",
    "    df[['bill_length_mm', 'bill_depth_mm', 'flipper_length_mm', 'body_mass_g']])\n",
    "\n",
    "# Split the data into training and testing sets\n",
    "X_train, X_test, y_train, y_test = train_test_split(\n",
    "    df[['bill_length_mm', 'bill_depth_mm', 'flipper_length_mm', 'body_mass_g']], df['species'], test_size=0.2, random_state=42)\n",
    "\n",
    "# Add a bias column to X_train and X_test\n",
    "X_train = np.hstack((np.ones((X_train.shape[0], 1)), X_train))\n",
    "X_test = np.hstack((np.ones((X_test.shape[0], 1)), X_test))\n",
    "\n",
    "# Convert the target variables to one-hot encoding\n",
    "y_train_one_hot = pd.get_dummies(y_train).values\n",
    "y_test_one_hot = pd.get_dummies(y_test).values\n"
   ]
  },
  {
   "cell_type": "code",
   "execution_count": 122,
   "id": "d5799b2f",
   "metadata": {},
   "outputs": [],
   "source": [
    "def softmax(X, theta):\n",
    "    exp = np.exp(X @ theta)\n",
    "    return exp / np.sum(exp, axis=1, keepdims=True)\n",
    "\n",
    "def softmax_derivative(X, y, theta):\n",
    "    return X.T @ (softmax(X, theta) - y) / X.shape[0]\n"
   ]
  },
  {
   "cell_type": "code",
   "execution_count": 123,
   "id": "f2eef262",
   "metadata": {},
   "outputs": [],
   "source": [
    "def batch_gradient_descent(X, y, alpha, epochs, early_stop_tol=None):\n",
    "    # Initialize the weights\n",
    "    theta = np.random.randn(X.shape[1], y.shape[1])\n",
    "\n",
    "    # Initialize variables for early stopping\n",
    "    best_theta = None\n",
    "    best_loss = np.inf\n",
    "    early_stop_count = 0\n",
    "\n",
    "    # Iterate over epochs\n",
    "    for i in range(epochs):\n",
    "        # Compute the gradient\n",
    "        grad = softmax_derivative(X, y, theta)\n",
    "\n",
    "        # Update the weights\n",
    "        theta -= alpha * grad\n",
    "\n",
    "        # Compute the loss\n",
    "        loss = -np.sum(y * np.log(softmax(X, theta))) / X.shape[0]\n",
    "\n",
    "        # Check for early stopping\n",
    "        if early_stop_tol is not None:\n",
    "            if loss < best_loss:\n",
    "                best_theta = theta.copy()\n",
    "                best_loss = loss\n",
    "                early_stop_count = 0\n",
    "            else:\n",
    "                early_stop_count += 1\n",
    "                if early_stop_count >= early_stop_tol:\n",
    "                    print(f\"Stopping early after {i} epochs\")\n",
    "                    break\n",
    "\n",
    "        # Print the loss every 100 epochs\n",
    "        if i % 100 == 0:\n",
    "            print(f\"Epoch {i}: loss = {loss:.4f}\")\n",
    "\n",
    "    if early_stop_tol is not None:\n",
    "        return best_theta\n",
    "    else:\n",
    "        return theta\n"
   ]
  },
  {
   "cell_type": "code",
   "execution_count": 124,
   "id": "4ad6d8bc",
   "metadata": {
    "scrolled": false
   },
   "outputs": [
    {
     "name": "stdout",
     "output_type": "stream",
     "text": [
      "Epoch 0: loss = 0.5382\n",
      "Epoch 100: loss = 0.3828\n",
      "Epoch 200: loss = 0.3095\n",
      "Epoch 300: loss = 0.2638\n",
      "Epoch 400: loss = 0.2314\n",
      "Epoch 500: loss = 0.2069\n",
      "Epoch 600: loss = 0.1877\n",
      "Epoch 700: loss = 0.1723\n",
      "Epoch 800: loss = 0.1597\n",
      "Epoch 900: loss = 0.1491\n",
      "Accuracy on test set: 98.51%\n"
     ]
    }
   ],
   "source": [
    "# Train the model\n",
    "theta = batch_gradient_descent(X_train, y_train_one_hot, alpha=0.01, epochs=1000, early_stop_tol=10)\n",
    "\n",
    "# Make predictions on the test set\n",
    "y_pred_one_hot = softmax(X_test, theta)\n",
    "y_pred = np.argmax(y_pred_one_hot, axis=1)\n",
    "\n",
    "# Print the accuracy on the test set\n",
    "accuracy = np.mean(y_pred == y_test)\n",
    "print(f\"Accuracy on test set: {accuracy:.2%}\")\n"
   ]
  }
 ],
 "metadata": {
  "kernelspec": {
   "display_name": "Python 3 (ipykernel)",
   "language": "python",
   "name": "python3"
  },
  "language_info": {
   "codemirror_mode": {
    "name": "ipython",
    "version": 3
   },
   "file_extension": ".py",
   "mimetype": "text/x-python",
   "name": "python",
   "nbconvert_exporter": "python",
   "pygments_lexer": "ipython3",
   "version": "3.9.13"
  }
 },
 "nbformat": 4,
 "nbformat_minor": 5
}
